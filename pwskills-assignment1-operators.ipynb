{
 "cells": [
  {
   "cell_type": "markdown",
   "id": "7382b37d",
   "metadata": {},
   "source": [
    "###  1. Calculate the sum, difference, product, and quotient of two numbers."
   ]
  },
  {
   "cell_type": "code",
   "execution_count": 1,
   "id": "b3f4cf4b",
   "metadata": {},
   "outputs": [
    {
     "name": "stdout",
     "output_type": "stream",
     "text": [
      "Sum of 2 Numbers :   8\n",
      "Difference of 2 Numbers :   2\n",
      "Product of 2 Numbers :   15\n",
      "Quotient of 2 Numbers :   1.6666666666666667\n",
      "Remainder of 2 Numbers :   2\n"
     ]
    }
   ],
   "source": [
    "# Let 'a' and 'b' are the variables.\n",
    "a = 5\n",
    "b = 3\n",
    "\n",
    "# Sum of 2 Numbers\n",
    "sums = a + b\n",
    "print(\"Sum of 2 Numbers :  \",sums)\n",
    "\n",
    "# Difference of 2 Numbers\n",
    "diff = a - b\n",
    "print(\"Difference of 2 Numbers :  \",diff)\n",
    "\n",
    "# Product of 2 Numbers\n",
    "pdt = a * b\n",
    "print(\"Product of 2 Numbers :  \",pdt)\n",
    "\n",
    "# Quotient of 2 Numbers\n",
    "qut = a / b\n",
    "print(\"Quotient of 2 Numbers :  \",qut)\n",
    "\n",
    "# Remainder of 2 Numbers\n",
    "rmdr = a % b\n",
    "print(\"Remainder of 2 Numbers :  \",rmdr)"
   ]
  },
  {
   "cell_type": "markdown",
   "id": "947d7f0f",
   "metadata": {},
   "source": [
    "### Alternative Method of the above Using User defined Function"
   ]
  },
  {
   "cell_type": "code",
   "execution_count": 2,
   "id": "01c3c86e",
   "metadata": {},
   "outputs": [
    {
     "name": "stdout",
     "output_type": "stream",
     "text": [
      "Sum of 2 Numbers :   <built-in function sum>\n",
      "Difference of 2 Numbers :   15\n",
      "Product of 2 Numbers :   100\n",
      "Quotient of 2 Numbers :   4.0\n",
      "Remainder of 2 Numbers :   0\n"
     ]
    }
   ],
   "source": [
    "# Define a function for doing the arithmetic operations\n",
    "def calculations(a, b):\n",
    "    sums = a + b\n",
    "    diff = a - b\n",
    "    pdt = a * b\n",
    "    qut = a / b\n",
    "    rmdr = a % b\n",
    "    return sums,diff,pdt,qut,rmdr\n",
    " \n",
    "# Calling the function and unpacking the returned values\n",
    "sums,diff,pdt,qut,rmdr = calculations(20, 5)\n",
    "\n",
    "# Printing the outputs\n",
    "print(\"Sum of 2 Numbers :  \", sum)\n",
    "print(\"Difference of 2 Numbers :  \", diff)   \n",
    "print(\"Product of 2 Numbers :  \", pdt)\n",
    "print(\"Quotient of 2 Numbers :  \", qut)    \n",
    "print(\"Remainder of 2 Numbers :  \", rmdr)"
   ]
  },
  {
   "cell_type": "markdown",
   "id": "f766c5fe",
   "metadata": {},
   "source": [
    "### 2. Perform various assignment operations on a variable."
   ]
  },
  {
   "cell_type": "code",
   "execution_count": 3,
   "id": "56a4d69a",
   "metadata": {},
   "outputs": [
    {
     "name": "stdout",
     "output_type": "stream",
     "text": [
      "The Value of 'a' is:   3\n",
      "The Value of 'a = a+5' is:   8\n",
      "The Value of 'a += 5' is:   13\n",
      "The Value of 'a -= 5' is:   8\n",
      "The Value of 'a *= 5' is:   40\n",
      "The Value of 'a /= 5' is:   8.0\n"
     ]
    }
   ],
   "source": [
    "a = 3           # here the value of 'a' is assigned as 3.\n",
    "print(\"The Value of 'a' is:  \", a)\n",
    "a = a+5         # modify the value of 'a' and is assigned to 'a'.\n",
    "print(\"The Value of 'a = a+5' is:  \", a)\n",
    "\n",
    "# This can be rewrite in the following way, which is also called python short hands.\n",
    "\n",
    "a += 5\n",
    "print(\"The Value of 'a += 5' is:  \", a)\n",
    "a -= 5\n",
    "print(\"The Value of 'a -= 5' is:  \", a)\n",
    "a *= 5\n",
    "print(\"The Value of 'a *= 5' is:  \", a)\n",
    "a /= 5\n",
    "print(\"The Value of 'a /= 5' is:  \", a)"
   ]
  },
  {
   "cell_type": "markdown",
   "id": "534c8073",
   "metadata": {},
   "source": [
    "### 3. Compare two numbers and print the results."
   ]
  },
  {
   "cell_type": "code",
   "execution_count": 4,
   "id": "39d7286a",
   "metadata": {},
   "outputs": [
    {
     "name": "stdout",
     "output_type": "stream",
     "text": [
      "Comparison of two variables 'x = 4' and 'y = -10' as follows:\n",
      "\n",
      "*****************************\n",
      "x == y False\n",
      "x != y True\n",
      "x <= y False\n",
      "x >= y True\n",
      "x < y False\n",
      "x > y True\n",
      "\n",
      "*****************************\n"
     ]
    }
   ],
   "source": [
    "# Comparison operators always gives boolean values(True/False)\n",
    "x = 4 \n",
    "y = -10\n",
    "\n",
    "# Using an f-string for clarity and conciseness\n",
    "print(f\"Comparison of two variables 'x = {x}' and 'y = {y}' as follows:\")\n",
    "\n",
    "print(\"\\n*****************************\")\n",
    "print(\"x == y\", x == y)\n",
    "print(\"x != y\", x != y)\n",
    "print(\"x <= y\", x <= y)\n",
    "print(\"x >= y\", x >= y)\n",
    "print(\"x < y\", x < y)\n",
    "print(\"x > y\", x > y)\n",
    "print(\"\\n*****************************\")"
   ]
  },
  {
   "cell_type": "markdown",
   "id": "ba2e506e",
   "metadata": {},
   "source": [
    "### 4. Check conditions Using logical operators"
   ]
  },
  {
   "cell_type": "code",
   "execution_count": 5,
   "id": "6ae01f61",
   "metadata": {},
   "outputs": [
    {
     "name": "stdout",
     "output_type": "stream",
     "text": [
      "Logical AND - (p < q) and (r < q) is:  True\n",
      "Logical OR - (p > q) or (r > q) is:  False\n",
      "Logical NOT - not (p < q) is:  False\n",
      "Logical NOT - not (r < q) is:  True\n",
      "Negation of the whole condition - not ((p < q) and (r < q)) is:  True\n"
     ]
    }
   ],
   "source": [
    "p = 3\n",
    "q = 6\n",
    "r = 3\n",
    "print(\"Logical AND - (p < q) and (r < q) is: \", (p < q) and (r < q)) # Logical AND \n",
    "print(\"Logical OR - (p > q) or (r > q) is: \", (p > q) or (r > q))    # Logical OR\n",
    "print(\"Logical NOT - not (p < q) is: \", not (p < q))   # Logical NOT\n",
    "print(\"Logical NOT - not (r < q) is: \", not (r > q))   # Logical NOT\n",
    "print(\"Negation of the whole condition - not ((p < q) and (r < q)) is: \", not ((p > q) and (r < q)))"
   ]
  },
  {
   "cell_type": "markdown",
   "id": "3438ea5f",
   "metadata": {},
   "source": [
    "### 5.Check the identity of Variables."
   ]
  },
  {
   "cell_type": "code",
   "execution_count": 6,
   "id": "e80fde15",
   "metadata": {},
   "outputs": [
    {
     "name": "stdout",
     "output_type": "stream",
     "text": [
      "n='10' is p='20' :   False\n",
      "p='20' is x='20' :   True\n",
      "s1='python class' is s2='python class' :   True\n"
     ]
    }
   ],
   "source": [
    "# compare the memory locations or address of the variables and return boolen values\n",
    "\n",
    "n = 10\n",
    "p = 20\n",
    "x = p\n",
    "s1 = \"python class\"\n",
    "s2 =s1\n",
    "\n",
    "print(f\"n='{n}' is p='{p}' :  \",n is p)\n",
    "print(f\"p='{p}' is x='{x}' :  \",p is x)\n",
    "print(f\"s1='{s1}' is s2='{s2}' :  \",s1 is s2)"
   ]
  },
  {
   "cell_type": "markdown",
   "id": "042fddbb",
   "metadata": {},
   "source": [
    "### 6. Perform bitwise operations on any two integers."
   ]
  },
  {
   "cell_type": "code",
   "execution_count": 55,
   "id": "cbcda491",
   "metadata": {},
   "outputs": [
    {
     "name": "stdout",
     "output_type": "stream",
     "text": [
      "\n",
      "*****************************************************\n",
      "Bitwise AND Operation\n",
      "\n",
      "Bitwise AND of 15 & 10 is:  10\n",
      "binary of 15 is:  0b1111\n",
      "binary of 10 is:  0b1010\n",
      "Bitwise AND of '0b1111' and '0b1010' is:  0b1010 \n",
      "Corresponding Decimal is:  10\n",
      "\n",
      "*****************************************************\n",
      "Bitwise OR Operation\n",
      "\n",
      "Bitwise OR of 15 & 10 is:  15\n",
      "binary of 15 is:  0b1111\n",
      "binary of 10 is:  0b1010\n",
      "Bitwise OR of '0b1111' and '0b1010' is:  0b1111 \n",
      "Corresponding Decimal is:  15\n",
      "\n",
      "******************************************************\n",
      "\n",
      "Bitwise NOT Operation\n",
      "\n",
      "The Negative of 190 is '-190' and Bitwise NOT of 190 is '-191':\n",
      "Bitwise NOT of -190 is '189':\n",
      "\n",
      "*****************************************************\n",
      "\n",
      "Bitwise XOR Operation\n",
      "\n",
      "The XOR of 15 and 10 is: '5' \n",
      "binary of 15 is:  0b1111\n",
      "binary of 10 is:  0b1010\n",
      "Bitwise XOR of '0b1111' and '0b1010' is:  0b101 \n",
      "Corresponding Decimal is:  5\n",
      "\n",
      "*****************************************************\n",
      "\n",
      "Left Shift Operation\n",
      "\n",
      "The Left Shift Operation of 15 by 2 is: '60' \n",
      "binary of 15 is:  0b1111\n",
      "binary of '60' is:  0b111100\n",
      "\n",
      "*****************************************************\n",
      "\n",
      "Right Shift Operation\n",
      "\n",
      "The Right Shift Operation of 15 by 2 is: '3' \n",
      "binary of 15 is:  0b1111\n",
      "binary of '3' is:  0b11\n",
      "\n",
      "*****************************************************\n"
     ]
    }
   ],
   "source": [
    "# Converts each number in its binary format and do the operations on bit level.\n",
    "print(\"\\n*****************************************************\")\n",
    "print(\"Bitwise AND Operation\\n\")\n",
    "print(\"Bitwise AND of 15 & 10 is: \",15 & 10)\n",
    "print(\"binary of 15 is: \",bin(15))\n",
    "print(\"binary of 10 is: \",bin(10))\n",
    "print(f\"Bitwise AND of '{bin(15)}' and '{bin(10)}' is: \",bin(15 & 10),\"\\nCorresponding Decimal is: \",15 & 10)\n",
    "print(\"\\n*****************************************************\")\n",
    "\n",
    "print(\"Bitwise OR Operation\\n\")\n",
    "print(\"Bitwise OR of 15 & 10 is: \",15 | 10)\n",
    "print(\"binary of 15 is: \",bin(15))\n",
    "print(\"binary of 10 is: \",bin(10))\n",
    "print(f\"Bitwise OR of '{bin(15)}' and '{bin(10)}' is: \",bin(15 | 10),\"\\nCorresponding Decimal is: \",15 | 10)\n",
    "print(\"\\n******************************************************\\n\")\n",
    "\n",
    "print(\"Bitwise NOT Operation\\n\")\n",
    "print(f\"The Negative of 190 is '{-190}' and Bitwise NOT of 190 is '{~190}':\")\n",
    "print(f\"Bitwise NOT of -190 is '{~(-190)}':\")\n",
    "print(\"\\n*****************************************************\\n\")\n",
    "\n",
    "print(\"Bitwise XOR Operation\\n\")\n",
    "print(f\"The XOR of 15 and 10 is: '{15 ^ 10}' \")\n",
    "print(\"binary of 15 is: \",bin(15))\n",
    "print(\"binary of 10 is: \",bin(10))\n",
    "print(f\"Bitwise XOR of '{bin(15)}' and '{bin(10)}' is: \",bin(15 ^ 10),\"\\nCorresponding Decimal is: \",15 ^ 10)\n",
    "print(\"\\n*****************************************************\\n\")\n",
    "\n",
    "#Left Shift adds number of zeros at the end of the binary representation.\n",
    "print(\"Left Shift Operation\\n\")\n",
    "print(f\"The Left Shift Operation of 15 by 2 is: '{15<<2}' \")\n",
    "print(\"binary of 15 is: \",bin(15))\n",
    "print(f\"binary of '{15<<2}' is: \",bin(15<<2))\n",
    "print(\"\\n*****************************************************\\n\")\n",
    "\n",
    "#Right Shift removes number of elements from the end of the binary representation.\n",
    "print(\"Right Shift Operation\\n\")\n",
    "print(f\"The Right Shift Operation of 15 by 2 is: '{15>>2}' \")\n",
    "print(\"binary of 15 is: \",bin(15))\n",
    "print(f\"binary of '{15>>2}' is: \",bin(15>>2))\n",
    "print(\"\\n*****************************************************\")\n"
   ]
  },
  {
   "cell_type": "markdown",
   "id": "43a0db37",
   "metadata": {},
   "source": [
    "### 7. Use Unary operators to change the sign of a number."
   ]
  },
  {
   "cell_type": "markdown",
   "id": "40d9da59",
   "metadata": {},
   "source": [
    "A unary operator is an operator that operates on only one operand,that is the negation operator (-), which changes the sign of a number. If applied to a positive number, it makes it negative, and if applied to a negative number, it makes it positive. This is effectively used to toggle the sign of a number in programming."
   ]
  },
  {
   "cell_type": "code",
   "execution_count": 59,
   "id": "ec35d35b",
   "metadata": {},
   "outputs": [
    {
     "name": "stdout",
     "output_type": "stream",
     "text": [
      "The Unary operator of '15' is:  -15\n",
      "The Unary operator of '-15' is:  15\n"
     ]
    }
   ],
   "source": [
    "n = 15\n",
    "print(f\"The Unary operator of '{n}' is: \",-n) \n",
    "print(f\"The Unary operator of '{-n}' is: \",n)"
   ]
  },
  {
   "cell_type": "markdown",
   "id": "60112306",
   "metadata": {},
   "source": [
    "### 8. Use the ternary operator to assign values based on conditions"
   ]
  },
  {
   "cell_type": "code",
   "execution_count": 75,
   "id": "40d2bfdf",
   "metadata": {},
   "outputs": [
    {
     "name": "stdout",
     "output_type": "stream",
     "text": [
      "13\n"
     ]
    }
   ],
   "source": [
    "a = 5\n",
    "b = 13\n",
    "\n",
    "# In C/C++ Ternary operator is (a>b)?a:b;\n",
    "# Python's way of using the ternary operator\n",
    "greatest_value = a if a > b else b    \n",
    "\n",
    "print(greatest_value)"
   ]
  },
  {
   "cell_type": "code",
   "execution_count": 76,
   "id": "ffee8d1c",
   "metadata": {},
   "outputs": [
    {
     "name": "stdout",
     "output_type": "stream",
     "text": [
      " '13' is greater\n"
     ]
    }
   ],
   "source": [
    "# Condition Using If-Else\n",
    "if (a>b):\n",
    "   print(f\" '{a}' is greater\")\n",
    "else:\n",
    "   print(f\" '{b}' is greater\")"
   ]
  }
 ],
 "metadata": {
  "kernelspec": {
   "display_name": "Python 3 (ipykernel)",
   "language": "python",
   "name": "python3"
  },
  "language_info": {
   "codemirror_mode": {
    "name": "ipython",
    "version": 3
   },
   "file_extension": ".py",
   "mimetype": "text/x-python",
   "name": "python",
   "nbconvert_exporter": "python",
   "pygments_lexer": "ipython3",
   "version": "3.11.5"
  }
 },
 "nbformat": 4,
 "nbformat_minor": 5
}
